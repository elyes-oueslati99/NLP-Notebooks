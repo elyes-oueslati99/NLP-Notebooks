{
  "nbformat": 4,
  "nbformat_minor": 0,
  "metadata": {
    "colab": {
      "provenance": []
    },
    "kernelspec": {
      "name": "python3",
      "display_name": "Python 3"
    },
    "language_info": {
      "name": "python"
    },
    "accelerator": "GPU"
  },
  "cells": [
    {
      "cell_type": "code",
      "metadata": {
        "id": "DFn2EcojCBvl"
      },
      "source": [
        "#bagOfWords is an efficient way to deal with sentiment analysis. However we should avoid suing for Big Data\n",
        "import nltk\n"
      ],
      "execution_count": null,
      "outputs": []
    },
    {
      "cell_type": "code",
      "metadata": {
        "id": "mMZvXHGhDeoe"
      },
      "source": [
        "paragraph =  \"\"\"I have three visions for India. In 3000 years of our history, people from all over \n",
        "               the world have come and invaded us, captured our lands, conquered our minds. \n",
        "               From Alexander onwards, the Greeks, the Turks, the Moguls, the Portuguese, the British,\n",
        "               the French, the Dutch, all of them came and looted us, took over what was ours. \n",
        "               Yet we have not done this to any other nation. We have not conquered anyone. \n",
        "               We have not grabbed their land, their culture, \n",
        "               their history and tried to enforce our way of life on them. \n",
        "               Why? Because we respect the freedom of others.That is why my \n",
        "               first vision is that of freedom. I believe that India got its first vision of \n",
        "               this in 1857, when we started the War of Independence. It is this freedom that\n",
        "               we must protect and nurture and build on. If we are not free, no one will respect us.\n",
        "               My second vision for India’s development. For fifty years we have been a developing nation.\n",
        "               It is time we see ourselves as a developed nation. We are among the top 5 nations of the world\n",
        "               in terms of GDP. We have a 10 percent growth rate in most areas. Our poverty levels are falling.\n",
        "               Our achievements are being globally recognised today. Yet we lack the self-confidence to\n",
        "               see ourselves as a developed nation, self-reliant and self-assured. Isn’t this incorrect?\n",
        "               I have a third vision. India must stand up to the world. Because I believe that unless India \n",
        "               stands up to the world, no one will respect us. Only strength respects strength. We must be \n",
        "               strong not only as a military power but also as an economic power. Both must go hand-in-hand. \n",
        "               My good fortune was to have worked with three great minds. Dr. Vikram Sarabhai of the Dept. of \n",
        "               space, Professor Satish Dhawan, who succeeded him and Dr. Brahm Prakash, father of nuclear material.\n",
        "               I was lucky to have worked with all three of them closely and consider this the great opportunity of my life. \n",
        "               I see four milestones in my career\"\"\"\n",
        "              "
      ],
      "execution_count": null,
      "outputs": []
    },
    {
      "cell_type": "code",
      "metadata": {
        "colab": {
          "base_uri": "https://localhost:8080/",
          "height": 137
        },
        "id": "xUJLs48BDsDE",
        "outputId": "4ff84314-7868-437d-a61c-c0a34c42266c"
      },
      "source": [
        "paragraph=paragraph.lower()\n",
        "paragraph"
      ],
      "execution_count": null,
      "outputs": [
        {
          "output_type": "execute_result",
          "data": {
            "application/vnd.google.colaboratory.intrinsic+json": {
              "type": "string"
            },
            "text/plain": [
              "'i have three visions for india. in 3000 years of our history, people from all over \\n               the world have come and invaded us, captured our lands, conquered our minds. \\n               from alexander onwards, the greeks, the turks, the moguls, the portuguese, the british,\\n               the french, the dutch, all of them came and looted us, took over what was ours. \\n               yet we have not done this to any other nation. we have not conquered anyone. \\n               we have not grabbed their land, their culture, \\n               their history and tried to enforce our way of life on them. \\n               why? because we respect the freedom of others.that is why my \\n               first vision is that of freedom. i believe that india got its first vision of \\n               this in 1857, when we started the war of independence. it is this freedom that\\n               we must protect and nurture and build on. if we are not free, no one will respect us.\\n               my second vision for india’s development. for fifty years we have been a developing nation.\\n               it is time we see ourselves as a developed nation. we are among the top 5 nations of the world\\n               in terms of gdp. we have a 10 percent growth rate in most areas. our poverty levels are falling.\\n               our achievements are being globally recognised today. yet we lack the self-confidence to\\n               see ourselves as a developed nation, self-reliant and self-assured. isn’t this incorrect?\\n               i have a third vision. india must stand up to the world. because i believe that unless india \\n               stands up to the world, no one will respect us. only strength respects strength. we must be \\n               strong not only as a military power but also as an economic power. both must go hand-in-hand. \\n               my good fortune was to have worked with three great minds. dr. vikram sarabhai of the dept. of \\n               space, professor satish dhawan, who succeeded him and dr. brahm prakash, father of nuclear material.\\n               i was lucky to have worked with all three of them closely and consider this the great opportunity of my life. \\n               i see four milestones in my career'"
            ]
          },
          "metadata": {
            "tags": []
          },
          "execution_count": 3
        }
      ]
    },
    {
      "cell_type": "code",
      "metadata": {
        "colab": {
          "base_uri": "https://localhost:8080/"
        },
        "id": "zzg6Cg5UFcRH",
        "outputId": "df1e0403-435d-4405-ba6b-587175a8b3f3"
      },
      "source": [
        "import re #regex\n",
        "from nltk.corpus import stopwords\n",
        "from nltk.stem.porter import PorterStemmer\n",
        "from nltk.stem import WordNetLemmatizer\n",
        "nltk.download('punkt')\n",
        "nltk.download('stopwords')\n",
        "nltk.download('punkt')\n",
        "nltk.download('wordnet')"
      ],
      "execution_count": null,
      "outputs": [
        {
          "output_type": "stream",
          "text": [
            "[nltk_data] Downloading package punkt to /root/nltk_data...\n",
            "[nltk_data]   Unzipping tokenizers/punkt.zip.\n",
            "[nltk_data] Downloading package stopwords to /root/nltk_data...\n",
            "[nltk_data]   Unzipping corpora/stopwords.zip.\n",
            "[nltk_data] Downloading package punkt to /root/nltk_data...\n",
            "[nltk_data]   Package punkt is already up-to-date!\n",
            "[nltk_data] Downloading package wordnet to /root/nltk_data...\n",
            "[nltk_data]   Unzipping corpora/wordnet.zip.\n"
          ],
          "name": "stdout"
        },
        {
          "output_type": "execute_result",
          "data": {
            "text/plain": [
              "True"
            ]
          },
          "metadata": {
            "tags": []
          },
          "execution_count": 4
        }
      ]
    },
    {
      "cell_type": "code",
      "metadata": {
        "id": "g7h7tprdFitm"
      },
      "source": [
        "stemmer=PorterStemmer()\n",
        "lemmatizer=WordNetLemmatizer()\n",
        "sentences=nltk.sent_tokenize(paragraph)"
      ],
      "execution_count": null,
      "outputs": []
    },
    {
      "cell_type": "code",
      "metadata": {
        "id": "bO-FL5-4HMHb"
      },
      "source": [
        "#bag of words\n",
        "corpus = []\n",
        "for i in range(len(sentences)):\n",
        "  review=re.sub('[^a-zA-Z]',' ',sentences[i])#replace all caracters different from letters by a space\n",
        "  review=review.lower()\n",
        "  review=review.split()#split() methood splits a string into a list the default separator is a whitespace\n",
        "  review=[lemmatizer.lemmatize(word) for word in review if word not in stopwords.words('english')]\n",
        "  review = ' '.join(review)\n",
        "  corpus.append(review)\n"
      ],
      "execution_count": null,
      "outputs": []
    },
    {
      "cell_type": "code",
      "metadata": {
        "colab": {
          "base_uri": "https://localhost:8080/"
        },
        "id": "OgjT9UmLKJkn",
        "outputId": "9a1377f9-2fba-4aa6-a40d-6f6b91771b28"
      },
      "source": [
        "print(sentences,'\\n',corpus)"
      ],
      "execution_count": null,
      "outputs": [
        {
          "output_type": "stream",
          "text": [
            "['i have three visions for india.', 'in 3000 years of our history, people from all over \\n               the world have come and invaded us, captured our lands, conquered our minds.', 'from alexander onwards, the greeks, the turks, the moguls, the portuguese, the british,\\n               the french, the dutch, all of them came and looted us, took over what was ours.', 'yet we have not done this to any other nation.', 'we have not conquered anyone.', 'we have not grabbed their land, their culture, \\n               their history and tried to enforce our way of life on them.', 'why?', 'because we respect the freedom of others.that is why my \\n               first vision is that of freedom.', 'i believe that india got its first vision of \\n               this in 1857, when we started the war of independence.', 'it is this freedom that\\n               we must protect and nurture and build on.', 'if we are not free, no one will respect us.', 'my second vision for india’s development.', 'for fifty years we have been a developing nation.', 'it is time we see ourselves as a developed nation.', 'we are among the top 5 nations of the world\\n               in terms of gdp.', 'we have a 10 percent growth rate in most areas.', 'our poverty levels are falling.', 'our achievements are being globally recognised today.', 'yet we lack the self-confidence to\\n               see ourselves as a developed nation, self-reliant and self-assured.', 'isn’t this incorrect?', 'i have a third vision.', 'india must stand up to the world.', 'because i believe that unless india \\n               stands up to the world, no one will respect us.', 'only strength respects strength.', 'we must be \\n               strong not only as a military power but also as an economic power.', 'both must go hand-in-hand.', 'my good fortune was to have worked with three great minds.', 'dr. vikram sarabhai of the dept.', 'of \\n               space, professor satish dhawan, who succeeded him and dr. brahm prakash, father of nuclear material.', 'i was lucky to have worked with all three of them closely and consider this the great opportunity of my life.', 'i see four milestones in my career'] \n",
            " ['three vision india', 'year history people world come invaded u captured land conquered mind', 'alexander onwards greek turk mogul portuguese british french dutch came looted u took', 'yet done nation', 'conquered anyone', 'grabbed land culture history tried enforce way life', '', 'respect freedom others first vision freedom', 'believe india got first vision started war independence', 'freedom must protect nurture build', 'free one respect u', 'second vision india development', 'fifty year developing nation', 'time see developed nation', 'among top nation world term gdp', 'percent growth rate area', 'poverty level falling', 'achievement globally recognised today', 'yet lack self confidence see developed nation self reliant self assured', 'incorrect', 'third vision', 'india must stand world', 'believe unless india stand world one respect u', 'strength respect strength', 'must strong military power also economic power', 'must go hand hand', 'good fortune worked three great mind', 'dr vikram sarabhai dept', 'space professor satish dhawan succeeded dr brahm prakash father nuclear material', 'lucky worked three closely consider great opportunity life', 'see four milestone career']\n"
          ],
          "name": "stdout"
        }
      ]
    },
    {
      "cell_type": "code",
      "metadata": {
        "id": "AKjBvzUBJUuK"
      },
      "source": [
        "# Creating the Bag of Words model\n",
        "from sklearn.feature_extraction.text import CountVectorizer\n",
        "cv=CountVectorizer(max_features=1500)\n",
        "x=cv.fit_transform(corpus).toarray()"
      ],
      "execution_count": null,
      "outputs": []
    },
    {
      "cell_type": "code",
      "metadata": {
        "colab": {
          "base_uri": "https://localhost:8080/"
        },
        "id": "uL5vx5U1Mn3_",
        "outputId": "2382b209-804f-4bd3-8f04-056bf8251a94"
      },
      "source": [
        "print(x)\n",
        "print(x.shape)\n",
        "#31 sentences"
      ],
      "execution_count": null,
      "outputs": [
        {
          "output_type": "stream",
          "text": [
            "[[0 0 0 ... 0 0 0]\n",
            " [0 0 0 ... 1 1 0]\n",
            " [0 1 0 ... 0 0 0]\n",
            " ...\n",
            " [0 0 0 ... 0 0 0]\n",
            " [0 0 0 ... 0 0 0]\n",
            " [0 0 0 ... 0 0 0]]\n",
            "(31, 114)\n"
          ],
          "name": "stdout"
        }
      ]
    }
  ]
}